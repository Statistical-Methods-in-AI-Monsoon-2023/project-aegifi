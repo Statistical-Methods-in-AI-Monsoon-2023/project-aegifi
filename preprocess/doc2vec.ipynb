{
 "cells": [
  {
   "cell_type": "code",
   "execution_count": 11,
   "metadata": {},
   "outputs": [],
   "source": [
    "import os\n",
    "import gensim\n",
    "import pandas as pd\n",
    "from sklearn.model_selection import train_test_split\n",
    "from gensim.models.doc2vec import Doc2Vec, TaggedDocument\n"
   ]
  },
  {
   "cell_type": "code",
   "execution_count": 12,
   "metadata": {},
   "outputs": [],
   "source": [
    "data_file = '../data/preprocessed_data.csv'\n",
    "\n",
    "data = pd.read_csv(data_file, index_col=0)\n",
    "\n",
    "X = data['plot'].values\n",
    "\n",
    "X_train, X_test = train_test_split(X, test_size=0.2, random_state=42)"
   ]
  },
  {
   "cell_type": "code",
   "execution_count": 13,
   "metadata": {},
   "outputs": [],
   "source": [
    "def read_corpus(X, tokens_only=False):\n",
    "    for i, line in enumerate(X):\n",
    "        tokens = gensim.utils.simple_preprocess(line)\n",
    "        if tokens_only:\n",
    "            yield tokens\n",
    "        else:\n",
    "            # For training data, add tags\n",
    "            yield TaggedDocument(tokens, [i])"
   ]
  },
  {
   "cell_type": "code",
   "execution_count": 14,
   "metadata": {},
   "outputs": [],
   "source": [
    "train_corpus = list(read_corpus(X))\n",
    "test_corpus = list(read_corpus(X_test, tokens_only=True))"
   ]
  },
  {
   "cell_type": "code",
   "execution_count": 15,
   "metadata": {},
   "outputs": [
    {
     "name": "stdout",
     "output_type": "stream",
     "text": [
      "[TaggedDocument(words=['days', 'later', 'interactive', 'comedy', 'series', 'featuring', 'ensemble', 'cast', 'youtube', 'celebrities', 'week', 'audience', 'writes', 'brief', 'via', 'social', 'media', 'new', 'episode', 'featuring', 'well', 'known', 'guest', 'star', 'seven', 'days', 'later', 'week', 'episode', 'premieres', 'tv', 'across', 'multiple', 'platforms'], tags=[0]), TaggedDocument(words=['cake', 'hour', 'long', 'serial', 'narrative', 'comedy', 'manhunt', 'high', 'priced', 'assassin', 'murders', 'digital', 'currency', 'bit', 'coin', 'detectives', 'track', 'enthused', 'entrepreneur', 'runs', 'bit', 'coin', 'mining', 'operation', 'perfect', 'world', 'want', 'money', 'power', 'want', 'power', 'create', 'money'], tags=[1])]\n",
      "[['young', 'bobby', 'learns', 'adolescence', 'confusing', 'time', 'seeks', 'guidance', 'school', 'counselor', 'classmates', 'offer', 'little', 'useful', 'information', 'leaving', 'poor', 'bobby', 'discover', 'sometimes', 'understanding', 'means', 'accepting', 'different'], ['enoch', 'arden', 'humble', 'fisherman', 'marries', 'annie', 'lee', 'signs', 'sailor', 'make', 'money', 'support', 'growing', 'family', 'storm', 'wrecks', 'ship', 'enoch', 'swims', 'deserted', 'island', 'annie', 'waits', 'vainly', 'return', 'small', 'need', 'describe', 'subject', 'poem', 'lord', 'tennyson', 'well', 'known', 'suffice', 'say', 'biograph', 'subject', 'unusually', 'faithful', 'portrayal', 'beautiful', 'romance', 'enoch', 'arden', 'annie', 'lee', 'philip', 'ray', 'taken', 'scenes', 'rare', 'beauty', 'first', 'part', 'tells', 'betrothal', 'enoch', 'annie', 'despair', 'enoch', 'inability', 'cope', 'demands', 'increasing', 'family', 'obligations', 'sailing', 'away', 'recoup', 'fortunes', 'vessel', 'bound', 'china', 'storm', 'encountered', 'vessel', 'wrecked', 'enoch', 'two', 'companions', 'washed', 'upon', 'tropical', 'island', 'forced', 'stay', 'annie', 'ever', 'hopeful', 'return', 'philip', 'though', 'unsuccessful', 'rival', 'shows', 'kindly', 'interest', 'little', 'grief', 'stricken', 'family']]\n"
     ]
    }
   ],
   "source": [
    "print(train_corpus[:2])\n",
    "print(test_corpus[:2])"
   ]
  },
  {
   "cell_type": "code",
   "execution_count": null,
   "metadata": {},
   "outputs": [],
   "source": []
  }
 ],
 "metadata": {
  "kernelspec": {
   "display_name": "Python 3",
   "language": "python",
   "name": "python3"
  },
  "language_info": {
   "codemirror_mode": {
    "name": "ipython",
    "version": 3
   },
   "file_extension": ".py",
   "mimetype": "text/x-python",
   "name": "python",
   "nbconvert_exporter": "python",
   "pygments_lexer": "ipython3",
   "version": "3.10.13"
  }
 },
 "nbformat": 4,
 "nbformat_minor": 2
}
