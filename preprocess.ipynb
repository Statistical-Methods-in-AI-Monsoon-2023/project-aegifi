{
 "cells": [
  {
   "cell_type": "code",
   "execution_count": 2,
   "metadata": {},
   "outputs": [],
   "source": [
    "import pandas as pd\n",
    "from tqdm import tqdm"
   ]
  },
  {
   "cell_type": "code",
   "execution_count": 3,
   "metadata": {},
   "outputs": [
    {
     "data": {
      "text/html": [
       "<div>\n",
       "<style scoped>\n",
       "    .dataframe tbody tr th:only-of-type {\n",
       "        vertical-align: middle;\n",
       "    }\n",
       "\n",
       "    .dataframe tbody tr th {\n",
       "        vertical-align: top;\n",
       "    }\n",
       "\n",
       "    .dataframe thead th {\n",
       "        text-align: right;\n",
       "    }\n",
       "</style>\n",
       "<table border=\"1\" class=\"dataframe\">\n",
       "  <thead>\n",
       "    <tr style=\"text-align: right;\">\n",
       "      <th></th>\n",
       "      <th>movie</th>\n",
       "      <th>plot</th>\n",
       "      <th>genres</th>\n",
       "    </tr>\n",
       "  </thead>\n",
       "  <tbody>\n",
       "    <tr>\n",
       "      <th>0</th>\n",
       "      <td>\"#7DaysLater\" (2013)</td>\n",
       "      <td>#7dayslater is an interactive comedy series fe...</td>\n",
       "      <td>['Comedy']</td>\n",
       "    </tr>\n",
       "    <tr>\n",
       "      <th>1</th>\n",
       "      <td>\"#Cake\" (2015)</td>\n",
       "      <td>#CAKE is a hour-long serial narrative comedy a...</td>\n",
       "      <td>['Comedy']</td>\n",
       "    </tr>\n",
       "    <tr>\n",
       "      <th>2</th>\n",
       "      <td>\"#DaddyLeaks\" (????)</td>\n",
       "      <td>The life of four close friends in their late t...</td>\n",
       "      <td>['Comedy']</td>\n",
       "    </tr>\n",
       "    <tr>\n",
       "      <th>3</th>\n",
       "      <td>\"#Elmira\" (2014)</td>\n",
       "      <td>#Elmira follows the story of a bunch of strang...</td>\n",
       "      <td>['Comedy']</td>\n",
       "    </tr>\n",
       "    <tr>\n",
       "      <th>4</th>\n",
       "      <td>\"#Fuga\" (2016)</td>\n",
       "      <td>Months after an apocalyptic event, a group of ...</td>\n",
       "      <td>['Action', 'Drama', 'Horror']</td>\n",
       "    </tr>\n",
       "    <tr>\n",
       "      <th>...</th>\n",
       "      <td>...</td>\n",
       "      <td>...</td>\n",
       "      <td>...</td>\n",
       "    </tr>\n",
       "    <tr>\n",
       "      <th>347530</th>\n",
       "      <td>� propos: philosophie (2016)</td>\n",
       "      <td>Is happiness good for human beings? Is truth m...</td>\n",
       "      <td>['Documentary']</td>\n",
       "    </tr>\n",
       "    <tr>\n",
       "      <th>347531</th>\n",
       "      <td>�a go�te le ciel (2014)</td>\n",
       "      <td>The 'Sky's the Limit' is the story of an 11 ye...</td>\n",
       "      <td>['Drama', 'Family', 'Fantasy', 'Short']</td>\n",
       "    </tr>\n",
       "    <tr>\n",
       "      <th>347532</th>\n",
       "      <td>� solo un nastro che gira (2017)</td>\n",
       "      <td>A woman in crisis finds in a peculiar bar the ...</td>\n",
       "      <td>['Comedy', 'Drama', 'Romance', 'Short']</td>\n",
       "    </tr>\n",
       "    <tr>\n",
       "      <th>347533</th>\n",
       "      <td>�X-Driver the Movie (2002) (V)</td>\n",
       "      <td>The squeal of smoking tires, the roar of the e...</td>\n",
       "      <td>['Action', 'Animation']</td>\n",
       "    </tr>\n",
       "    <tr>\n",
       "      <th>347534</th>\n",
       "      <td>�l (2001) (V)</td>\n",
       "      <td>In order to oppose the evil Black Widow organi...</td>\n",
       "      <td>['Adult', 'Animation', 'Mystery', 'Sci-Fi', 'T...</td>\n",
       "    </tr>\n",
       "  </tbody>\n",
       "</table>\n",
       "<p>347535 rows × 3 columns</p>\n",
       "</div>"
      ],
      "text/plain": [
       "                                   movie  \\\n",
       "0                   \"#7DaysLater\" (2013)   \n",
       "1                         \"#Cake\" (2015)   \n",
       "2                   \"#DaddyLeaks\" (????)   \n",
       "3                       \"#Elmira\" (2014)   \n",
       "4                         \"#Fuga\" (2016)   \n",
       "...                                  ...   \n",
       "347530      � propos: philosophie (2016)   \n",
       "347531           �a go�te le ciel (2014)   \n",
       "347532  � solo un nastro che gira (2017)   \n",
       "347533    �X-Driver the Movie (2002) (V)   \n",
       "347534                     �l (2001) (V)   \n",
       "\n",
       "                                                     plot  \\\n",
       "0       #7dayslater is an interactive comedy series fe...   \n",
       "1       #CAKE is a hour-long serial narrative comedy a...   \n",
       "2       The life of four close friends in their late t...   \n",
       "3       #Elmira follows the story of a bunch of strang...   \n",
       "4       Months after an apocalyptic event, a group of ...   \n",
       "...                                                   ...   \n",
       "347530  Is happiness good for human beings? Is truth m...   \n",
       "347531  The 'Sky's the Limit' is the story of an 11 ye...   \n",
       "347532  A woman in crisis finds in a peculiar bar the ...   \n",
       "347533  The squeal of smoking tires, the roar of the e...   \n",
       "347534  In order to oppose the evil Black Widow organi...   \n",
       "\n",
       "                                                   genres  \n",
       "0                                              ['Comedy']  \n",
       "1                                              ['Comedy']  \n",
       "2                                              ['Comedy']  \n",
       "3                                              ['Comedy']  \n",
       "4                           ['Action', 'Drama', 'Horror']  \n",
       "...                                                   ...  \n",
       "347530                                    ['Documentary']  \n",
       "347531            ['Drama', 'Family', 'Fantasy', 'Short']  \n",
       "347532            ['Comedy', 'Drama', 'Romance', 'Short']  \n",
       "347533                            ['Action', 'Animation']  \n",
       "347534  ['Adult', 'Animation', 'Mystery', 'Sci-Fi', 'T...  \n",
       "\n",
       "[347535 rows x 3 columns]"
      ]
     },
     "execution_count": 3,
     "metadata": {},
     "output_type": "execute_result"
    }
   ],
   "source": [
    "# load the plots_and_genres.csv file into a dataframe\n",
    "df = pd.read_csv('./data/plots_and_genres.csv')\n",
    "df"
   ]
  },
  {
   "cell_type": "code",
   "execution_count": 4,
   "metadata": {},
   "outputs": [
    {
     "data": {
      "text/plain": [
       "movie     0\n",
       "plot      0\n",
       "genres    0\n",
       "dtype: int64"
      ]
     },
     "execution_count": 4,
     "metadata": {},
     "output_type": "execute_result"
    }
   ],
   "source": [
    "# count nan values\n",
    "df.isna().sum()"
   ]
  },
  {
   "cell_type": "code",
   "execution_count": 5,
   "metadata": {},
   "outputs": [],
   "source": [
    "\n",
    "genres_to_consider = [\n",
    "    'Drama',\n",
    "    'Comedy',\n",
    "    'Thriller',\n",
    "    'Romance',\n",
    "    'Action',\n",
    "    'Family',\n",
    "    'Horror',\n",
    "    'Crime',\n",
    "    'Adventure',\n",
    "    'Animation',\n",
    "    'Fantasy',\n",
    "    'Sci-Fi',\n",
    "    'Mystery',\n",
    "    'Biography',\n",
    "    'Music',\n",
    "    'History',\n",
    "    'War',\n",
    "    'Western',\n",
    "    'Sport',\n",
    "    'Musical',\n",
    "]"
   ]
  },
  {
   "cell_type": "code",
   "execution_count": 6,
   "metadata": {},
   "outputs": [],
   "source": [
    "# filter the dataframe to only include the genres we want to consider\n",
    "\n",
    "def check(row):\n",
    "    sublist = row['genres']\n",
    "    # remove quotes from each item in the list\n",
    "    sublist = [item.strip().strip(\"'\") for item in sublist.strip('][').split(',')]\n",
    "\n",
    "    # # if even one of the genres in the list is in the genres_to_consider list, return True\n",
    "    # for genre in sublist:\n",
    "    #     if genre in genres_to_consider:\n",
    "    #         return True\n",
    "    \n",
    "    # check intersection of two lists\n",
    "    if len(set(sublist).intersection(set(genres_to_consider))) > 0:\n",
    "        # set genres to the intersection of the two lists\n",
    "        row['genres'] = list(set(sublist).intersection(set(genres_to_consider)))\n",
    "        return True\n",
    "    \n",
    "    return False"
   ]
  },
  {
   "cell_type": "code",
   "execution_count": 7,
   "metadata": {},
   "outputs": [],
   "source": [
    "\n",
    "filtered_df = df[df.apply(check, axis=1)]"
   ]
  },
  {
   "cell_type": "code",
   "execution_count": 8,
   "metadata": {},
   "outputs": [
    {
     "data": {
      "text/plain": [
       "{'Comedy': 80780,\n",
       " 'Action': 27517,\n",
       " 'Horror': 21274,\n",
       " 'Drama': 134609,\n",
       " 'Family': 22423,\n",
       " 'Sci-Fi': 15520,\n",
       " 'Romance': 31967,\n",
       " 'Biography': 14315,\n",
       " 'Crime': 20968,\n",
       " 'Music': 13872,\n",
       " 'Adventure': 19720,\n",
       " 'War': 8057,\n",
       " 'Sport': 6636,\n",
       " 'Animation': 16935,\n",
       " 'Fantasy': 16442,\n",
       " 'Mystery': 15237,\n",
       " 'Thriller': 31244,\n",
       " 'History': 13341,\n",
       " 'Musical': 6386,\n",
       " 'Western': 8005}"
      ]
     },
     "execution_count": 8,
     "metadata": {},
     "output_type": "execute_result"
    }
   ],
   "source": [
    "# count the number of movies in each genre\n",
    "genre_counts = {}\n",
    "for row in filtered_df['genres']:\n",
    "    for genre in row:\n",
    "        if genre in genre_counts:\n",
    "            genre_counts[genre] += 1\n",
    "        else:\n",
    "            genre_counts[genre] = 1\n",
    "genre_counts"
   ]
  },
  {
   "cell_type": "code",
   "execution_count": 9,
   "metadata": {},
   "outputs": [
    {
     "data": {
      "text/html": [
       "<div>\n",
       "<style scoped>\n",
       "    .dataframe tbody tr th:only-of-type {\n",
       "        vertical-align: middle;\n",
       "    }\n",
       "\n",
       "    .dataframe tbody tr th {\n",
       "        vertical-align: top;\n",
       "    }\n",
       "\n",
       "    .dataframe thead th {\n",
       "        text-align: right;\n",
       "    }\n",
       "</style>\n",
       "<table border=\"1\" class=\"dataframe\">\n",
       "  <thead>\n",
       "    <tr style=\"text-align: right;\">\n",
       "      <th></th>\n",
       "      <th>movie</th>\n",
       "      <th>plot</th>\n",
       "      <th>genres</th>\n",
       "    </tr>\n",
       "  </thead>\n",
       "  <tbody>\n",
       "    <tr>\n",
       "      <th>0</th>\n",
       "      <td>\"#7DaysLater\" (2013)</td>\n",
       "      <td>#7dayslater is an interactive comedy series fe...</td>\n",
       "      <td>[Comedy]</td>\n",
       "    </tr>\n",
       "    <tr>\n",
       "      <th>1</th>\n",
       "      <td>\"#Cake\" (2015)</td>\n",
       "      <td>#CAKE is a hour-long serial narrative comedy a...</td>\n",
       "      <td>[Comedy]</td>\n",
       "    </tr>\n",
       "    <tr>\n",
       "      <th>2</th>\n",
       "      <td>\"#DaddyLeaks\" (????)</td>\n",
       "      <td>The life of four close friends in their late t...</td>\n",
       "      <td>[Comedy]</td>\n",
       "    </tr>\n",
       "    <tr>\n",
       "      <th>3</th>\n",
       "      <td>\"#Elmira\" (2014)</td>\n",
       "      <td>#Elmira follows the story of a bunch of strang...</td>\n",
       "      <td>[Comedy]</td>\n",
       "    </tr>\n",
       "    <tr>\n",
       "      <th>4</th>\n",
       "      <td>\"#Fuga\" (2016)</td>\n",
       "      <td>Months after an apocalyptic event, a group of ...</td>\n",
       "      <td>[Action, Horror, Drama]</td>\n",
       "    </tr>\n",
       "    <tr>\n",
       "      <th>...</th>\n",
       "      <td>...</td>\n",
       "      <td>...</td>\n",
       "      <td>...</td>\n",
       "    </tr>\n",
       "    <tr>\n",
       "      <th>347529</th>\n",
       "      <td>� deux (2017)</td>\n",
       "      <td>When 2 Musicians throw coins in the same wishi...</td>\n",
       "      <td>[Musical, Romance]</td>\n",
       "    </tr>\n",
       "    <tr>\n",
       "      <th>347531</th>\n",
       "      <td>�a go�te le ciel (2014)</td>\n",
       "      <td>The 'Sky's the Limit' is the story of an 11 ye...</td>\n",
       "      <td>[Family, Fantasy, Drama]</td>\n",
       "    </tr>\n",
       "    <tr>\n",
       "      <th>347532</th>\n",
       "      <td>� solo un nastro che gira (2017)</td>\n",
       "      <td>A woman in crisis finds in a peculiar bar the ...</td>\n",
       "      <td>[Comedy, Romance, Drama]</td>\n",
       "    </tr>\n",
       "    <tr>\n",
       "      <th>347533</th>\n",
       "      <td>�X-Driver the Movie (2002) (V)</td>\n",
       "      <td>The squeal of smoking tires, the roar of the e...</td>\n",
       "      <td>[Action, Animation]</td>\n",
       "    </tr>\n",
       "    <tr>\n",
       "      <th>347534</th>\n",
       "      <td>�l (2001) (V)</td>\n",
       "      <td>In order to oppose the evil Black Widow organi...</td>\n",
       "      <td>[Thriller, Animation, Mystery, Sci-Fi]</td>\n",
       "    </tr>\n",
       "  </tbody>\n",
       "</table>\n",
       "<p>259557 rows × 3 columns</p>\n",
       "</div>"
      ],
      "text/plain": [
       "                                   movie  \\\n",
       "0                   \"#7DaysLater\" (2013)   \n",
       "1                         \"#Cake\" (2015)   \n",
       "2                   \"#DaddyLeaks\" (????)   \n",
       "3                       \"#Elmira\" (2014)   \n",
       "4                         \"#Fuga\" (2016)   \n",
       "...                                  ...   \n",
       "347529                     � deux (2017)   \n",
       "347531           �a go�te le ciel (2014)   \n",
       "347532  � solo un nastro che gira (2017)   \n",
       "347533    �X-Driver the Movie (2002) (V)   \n",
       "347534                     �l (2001) (V)   \n",
       "\n",
       "                                                     plot  \\\n",
       "0       #7dayslater is an interactive comedy series fe...   \n",
       "1       #CAKE is a hour-long serial narrative comedy a...   \n",
       "2       The life of four close friends in their late t...   \n",
       "3       #Elmira follows the story of a bunch of strang...   \n",
       "4       Months after an apocalyptic event, a group of ...   \n",
       "...                                                   ...   \n",
       "347529  When 2 Musicians throw coins in the same wishi...   \n",
       "347531  The 'Sky's the Limit' is the story of an 11 ye...   \n",
       "347532  A woman in crisis finds in a peculiar bar the ...   \n",
       "347533  The squeal of smoking tires, the roar of the e...   \n",
       "347534  In order to oppose the evil Black Widow organi...   \n",
       "\n",
       "                                        genres  \n",
       "0                                     [Comedy]  \n",
       "1                                     [Comedy]  \n",
       "2                                     [Comedy]  \n",
       "3                                     [Comedy]  \n",
       "4                      [Action, Horror, Drama]  \n",
       "...                                        ...  \n",
       "347529                      [Musical, Romance]  \n",
       "347531                [Family, Fantasy, Drama]  \n",
       "347532                [Comedy, Romance, Drama]  \n",
       "347533                     [Action, Animation]  \n",
       "347534  [Thriller, Animation, Mystery, Sci-Fi]  \n",
       "\n",
       "[259557 rows x 3 columns]"
      ]
     },
     "execution_count": 9,
     "metadata": {},
     "output_type": "execute_result"
    }
   ],
   "source": [
    "# filter out plots that are more than 200 words long\n",
    "filtered_df = filtered_df[filtered_df['plot'].apply(lambda x: len(x.split(' ')) < 200)]\n",
    "filtered_df"
   ]
  },
  {
   "cell_type": "code",
   "execution_count": 10,
   "metadata": {},
   "outputs": [
    {
     "data": {
      "text/plain": [
       "array([[0, 0, 0, ..., 0, 0, 0],\n",
       "       [0, 0, 0, ..., 0, 0, 0],\n",
       "       [0, 0, 0, ..., 0, 0, 0],\n",
       "       ...,\n",
       "       [0, 0, 0, ..., 0, 0, 0],\n",
       "       [1, 0, 1, ..., 0, 0, 0],\n",
       "       [0, 0, 1, ..., 1, 0, 0]])"
      ]
     },
     "execution_count": 10,
     "metadata": {},
     "output_type": "execute_result"
    }
   ],
   "source": [
    "# use multi-label binarizer to convert the list of genres into a binary vector\n",
    "from sklearn.preprocessing import MultiLabelBinarizer\n",
    "\n",
    "mlb = MultiLabelBinarizer()\n",
    "\n",
    "# split the data into X and y\n",
    "X = filtered_df['plot']\n",
    "y = filtered_df['genres']\n",
    "\n",
    "# transform the y data\n",
    "y = mlb.fit_transform(y)\n",
    "y"
   ]
  },
  {
   "cell_type": "code",
   "execution_count": 11,
   "metadata": {},
   "outputs": [],
   "source": [
    "# train a naive bayes classifier with label powerset\n",
    "from skmultilearn.problem_transform import LabelPowerset\n",
    "from sklearn.naive_bayes import GaussianNB\n",
    "from sklearn.feature_extraction.text import TfidfVectorizer\n",
    "\n",
    "# vectorize the plot data\n",
    "vectorizer = TfidfVectorizer(stop_words='english')\n",
    "X = vectorizer.fit_transform(X)"
   ]
  },
  {
   "cell_type": "code",
   "execution_count": 12,
   "metadata": {},
   "outputs": [
    {
     "data": {
      "text/plain": [
       "<259557x784600 sparse matrix of type '<class 'numpy.float64'>'\n",
       "\twith 10260828 stored elements in Compressed Sparse Row format>"
      ]
     },
     "execution_count": 12,
     "metadata": {},
     "output_type": "execute_result"
    }
   ],
   "source": [
    "X"
   ]
  },
  {
   "cell_type": "code",
   "execution_count": 13,
   "metadata": {},
   "outputs": [],
   "source": [
    "\n",
    "# split the data into train and test sets\n",
    "from sklearn.model_selection import train_test_split\n",
    "X_train, X_test, y_train, y_test = train_test_split(X, y)"
   ]
  },
  {
   "cell_type": "code",
   "execution_count": 14,
   "metadata": {},
   "outputs": [
    {
     "data": {
      "text/html": [
       "<style>#sk-container-id-1 {color: black;}#sk-container-id-1 pre{padding: 0;}#sk-container-id-1 div.sk-toggleable {background-color: white;}#sk-container-id-1 label.sk-toggleable__label {cursor: pointer;display: block;width: 100%;margin-bottom: 0;padding: 0.3em;box-sizing: border-box;text-align: center;}#sk-container-id-1 label.sk-toggleable__label-arrow:before {content: \"▸\";float: left;margin-right: 0.25em;color: #696969;}#sk-container-id-1 label.sk-toggleable__label-arrow:hover:before {color: black;}#sk-container-id-1 div.sk-estimator:hover label.sk-toggleable__label-arrow:before {color: black;}#sk-container-id-1 div.sk-toggleable__content {max-height: 0;max-width: 0;overflow: hidden;text-align: left;background-color: #f0f8ff;}#sk-container-id-1 div.sk-toggleable__content pre {margin: 0.2em;color: black;border-radius: 0.25em;background-color: #f0f8ff;}#sk-container-id-1 input.sk-toggleable__control:checked~div.sk-toggleable__content {max-height: 200px;max-width: 100%;overflow: auto;}#sk-container-id-1 input.sk-toggleable__control:checked~label.sk-toggleable__label-arrow:before {content: \"▾\";}#sk-container-id-1 div.sk-estimator input.sk-toggleable__control:checked~label.sk-toggleable__label {background-color: #d4ebff;}#sk-container-id-1 div.sk-label input.sk-toggleable__control:checked~label.sk-toggleable__label {background-color: #d4ebff;}#sk-container-id-1 input.sk-hidden--visually {border: 0;clip: rect(1px 1px 1px 1px);clip: rect(1px, 1px, 1px, 1px);height: 1px;margin: -1px;overflow: hidden;padding: 0;position: absolute;width: 1px;}#sk-container-id-1 div.sk-estimator {font-family: monospace;background-color: #f0f8ff;border: 1px dotted black;border-radius: 0.25em;box-sizing: border-box;margin-bottom: 0.5em;}#sk-container-id-1 div.sk-estimator:hover {background-color: #d4ebff;}#sk-container-id-1 div.sk-parallel-item::after {content: \"\";width: 100%;border-bottom: 1px solid gray;flex-grow: 1;}#sk-container-id-1 div.sk-label:hover label.sk-toggleable__label {background-color: #d4ebff;}#sk-container-id-1 div.sk-serial::before {content: \"\";position: absolute;border-left: 1px solid gray;box-sizing: border-box;top: 0;bottom: 0;left: 50%;z-index: 0;}#sk-container-id-1 div.sk-serial {display: flex;flex-direction: column;align-items: center;background-color: white;padding-right: 0.2em;padding-left: 0.2em;position: relative;}#sk-container-id-1 div.sk-item {position: relative;z-index: 1;}#sk-container-id-1 div.sk-parallel {display: flex;align-items: stretch;justify-content: center;background-color: white;position: relative;}#sk-container-id-1 div.sk-item::before, #sk-container-id-1 div.sk-parallel-item::before {content: \"\";position: absolute;border-left: 1px solid gray;box-sizing: border-box;top: 0;bottom: 0;left: 50%;z-index: -1;}#sk-container-id-1 div.sk-parallel-item {display: flex;flex-direction: column;z-index: 1;position: relative;background-color: white;}#sk-container-id-1 div.sk-parallel-item:first-child::after {align-self: flex-end;width: 50%;}#sk-container-id-1 div.sk-parallel-item:last-child::after {align-self: flex-start;width: 50%;}#sk-container-id-1 div.sk-parallel-item:only-child::after {width: 0;}#sk-container-id-1 div.sk-dashed-wrapped {border: 1px dashed gray;margin: 0 0.4em 0.5em 0.4em;box-sizing: border-box;padding-bottom: 0.4em;background-color: white;}#sk-container-id-1 div.sk-label label {font-family: monospace;font-weight: bold;display: inline-block;line-height: 1.2em;}#sk-container-id-1 div.sk-label-container {text-align: center;}#sk-container-id-1 div.sk-container {/* jupyter's `normalize.less` sets `[hidden] { display: none; }` but bootstrap.min.css set `[hidden] { display: none !important; }` so we also need the `!important` here to be able to override the default hidden behavior on the sphinx rendered scikit-learn.org. See: https://github.com/scikit-learn/scikit-learn/issues/21755 */display: inline-block !important;position: relative;}#sk-container-id-1 div.sk-text-repr-fallback {display: none;}</style><div id=\"sk-container-id-1\" class=\"sk-top-container\"><div class=\"sk-text-repr-fallback\"><pre>LabelPowerset(classifier=GaussianNB(), require_dense=[True, True])</pre><b>In a Jupyter environment, please rerun this cell to show the HTML representation or trust the notebook. <br />On GitHub, the HTML representation is unable to render, please try loading this page with nbviewer.org.</b></div><div class=\"sk-container\" hidden><div class=\"sk-item sk-dashed-wrapped\"><div class=\"sk-label-container\"><div class=\"sk-label sk-toggleable\"><input class=\"sk-toggleable__control sk-hidden--visually\" id=\"sk-estimator-id-1\" type=\"checkbox\" ><label for=\"sk-estimator-id-1\" class=\"sk-toggleable__label sk-toggleable__label-arrow\">LabelPowerset</label><div class=\"sk-toggleable__content\"><pre>LabelPowerset(classifier=GaussianNB(), require_dense=[True, True])</pre></div></div></div><div class=\"sk-parallel\"><div class=\"sk-parallel-item\"><div class=\"sk-item\"><div class=\"sk-label-container\"><div class=\"sk-label sk-toggleable\"><input class=\"sk-toggleable__control sk-hidden--visually\" id=\"sk-estimator-id-2\" type=\"checkbox\" ><label for=\"sk-estimator-id-2\" class=\"sk-toggleable__label sk-toggleable__label-arrow\">classifier: GaussianNB</label><div class=\"sk-toggleable__content\"><pre>GaussianNB()</pre></div></div></div><div class=\"sk-serial\"><div class=\"sk-item\"><div class=\"sk-estimator sk-toggleable\"><input class=\"sk-toggleable__control sk-hidden--visually\" id=\"sk-estimator-id-3\" type=\"checkbox\" ><label for=\"sk-estimator-id-3\" class=\"sk-toggleable__label sk-toggleable__label-arrow\">GaussianNB</label><div class=\"sk-toggleable__content\"><pre>GaussianNB()</pre></div></div></div></div></div></div></div></div></div></div>"
      ],
      "text/plain": [
       "LabelPowerset(classifier=GaussianNB(), require_dense=[True, True])"
      ]
     },
     "execution_count": 14,
     "metadata": {},
     "output_type": "execute_result"
    }
   ],
   "source": [
    "# train the classifier\n",
    "from sklearn.multiclass import OneVsRestClassifier\n",
    "classifier = OneVsRestClassifier(GaussianNB(), n_jobs=1)\n",
    "\n",
    "# train on a subset of the data\n",
    "n = X_train.shape[0] // 2000\n",
    "for i in tqdm(range(1999)):\n",
    "    if i == 0:\n",
    "        classifier.fit(X_train[:n].toarray(), y_train[:n])\n",
    "    else:\n",
    "        classifier.partial_fit(X_train[i*n: (i+1)*n].toarray(), y_train[i*n: (i+1)*n])\n"
   ]
  },
  {
   "cell_type": "code",
   "execution_count": 16,
   "metadata": {},
   "outputs": [],
   "source": [
    "\n",
    "# predict the test data\n",
    "\n",
    "predictions = classifier.predict(X_test[:30])\n"
   ]
  },
  {
   "cell_type": "code",
   "execution_count": 17,
   "metadata": {},
   "outputs": [
    {
     "name": "stdout",
     "output_type": "stream",
     "text": [
      "Accuracy:  0.2\n",
      "Precision:  0.4166666666666667\n",
      "Recall:  0.2830188679245283\n",
      "F1:  0.33707865168539325\n",
      "Hamming Loss:  0.09833333333333333\n"
     ]
    }
   ],
   "source": [
    "\n",
    "# evaluate the model\n",
    "\n",
    "from sklearn.metrics import accuracy_score, precision_score, recall_score, f1_score, hamming_loss\n",
    "\n",
    "print('Accuracy: ', accuracy_score(y_test[:30], predictions))\n",
    "print('Precision: ', precision_score(y_test[:30], predictions, average='micro'))\n",
    "print('Recall: ', recall_score(y_test[:30], predictions, average='micro'))\n",
    "print('F1: ', f1_score(y_test[:30], predictions, average='micro'))\n",
    "print('Hamming Loss: ', hamming_loss(y_test[:30], predictions))"
   ]
  },
  {
   "cell_type": "code",
   "execution_count": null,
   "metadata": {},
   "outputs": [],
   "source": []
  }
 ],
 "metadata": {
  "kernelspec": {
   "display_name": ".venv",
   "language": "python",
   "name": "python3"
  },
  "language_info": {
   "codemirror_mode": {
    "name": "ipython",
    "version": 3
   },
   "file_extension": ".py",
   "mimetype": "text/x-python",
   "name": "python",
   "nbconvert_exporter": "python",
   "pygments_lexer": "ipython3",
   "version": "3.11.5"
  },
  "orig_nbformat": 4
 },
 "nbformat": 4,
 "nbformat_minor": 2
}
