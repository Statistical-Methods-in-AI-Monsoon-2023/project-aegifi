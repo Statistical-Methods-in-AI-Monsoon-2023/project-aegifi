{
 "cells": [
  {
   "cell_type": "code",
   "execution_count": 47,
   "metadata": {},
   "outputs": [],
   "source": [
    "import pandas as pd"
   ]
  },
  {
   "cell_type": "code",
   "execution_count": 48,
   "metadata": {},
   "outputs": [
    {
     "data": {
      "text/html": [
       "<div>\n",
       "<style scoped>\n",
       "    .dataframe tbody tr th:only-of-type {\n",
       "        vertical-align: middle;\n",
       "    }\n",
       "\n",
       "    .dataframe tbody tr th {\n",
       "        vertical-align: top;\n",
       "    }\n",
       "\n",
       "    .dataframe thead th {\n",
       "        text-align: right;\n",
       "    }\n",
       "</style>\n",
       "<table border=\"1\" class=\"dataframe\">\n",
       "  <thead>\n",
       "    <tr style=\"text-align: right;\">\n",
       "      <th></th>\n",
       "      <th>movie</th>\n",
       "      <th>plot</th>\n",
       "      <th>genres</th>\n",
       "    </tr>\n",
       "  </thead>\n",
       "  <tbody>\n",
       "    <tr>\n",
       "      <th>0</th>\n",
       "      <td>\"#7DaysLater\" (2013)</td>\n",
       "      <td>#7dayslater is an interactive comedy series fe...</td>\n",
       "      <td>['Comedy']</td>\n",
       "    </tr>\n",
       "    <tr>\n",
       "      <th>1</th>\n",
       "      <td>\"#Cake\" (2015)</td>\n",
       "      <td>#CAKE is a hour-long serial narrative comedy a...</td>\n",
       "      <td>['Comedy']</td>\n",
       "    </tr>\n",
       "    <tr>\n",
       "      <th>2</th>\n",
       "      <td>\"#DaddyLeaks\" (????)</td>\n",
       "      <td>The life of four close friends in their late t...</td>\n",
       "      <td>['Comedy']</td>\n",
       "    </tr>\n",
       "    <tr>\n",
       "      <th>3</th>\n",
       "      <td>\"#Elmira\" (2014)</td>\n",
       "      <td>#Elmira follows the story of a bunch of strang...</td>\n",
       "      <td>['Comedy']</td>\n",
       "    </tr>\n",
       "    <tr>\n",
       "      <th>4</th>\n",
       "      <td>\"#Fuga\" (2016)</td>\n",
       "      <td>Months after an apocalyptic event, a group of ...</td>\n",
       "      <td>['Action', 'Drama', 'Horror']</td>\n",
       "    </tr>\n",
       "    <tr>\n",
       "      <th>...</th>\n",
       "      <td>...</td>\n",
       "      <td>...</td>\n",
       "      <td>...</td>\n",
       "    </tr>\n",
       "    <tr>\n",
       "      <th>347530</th>\n",
       "      <td>� propos: philosophie (2016)</td>\n",
       "      <td>Is happiness good for human beings? Is truth m...</td>\n",
       "      <td>['Documentary']</td>\n",
       "    </tr>\n",
       "    <tr>\n",
       "      <th>347531</th>\n",
       "      <td>�a go�te le ciel (2014)</td>\n",
       "      <td>The 'Sky's the Limit' is the story of an 11 ye...</td>\n",
       "      <td>['Drama', 'Family', 'Fantasy', 'Short']</td>\n",
       "    </tr>\n",
       "    <tr>\n",
       "      <th>347532</th>\n",
       "      <td>� solo un nastro che gira (2017)</td>\n",
       "      <td>A woman in crisis finds in a peculiar bar the ...</td>\n",
       "      <td>['Comedy', 'Drama', 'Romance', 'Short']</td>\n",
       "    </tr>\n",
       "    <tr>\n",
       "      <th>347533</th>\n",
       "      <td>�X-Driver the Movie (2002) (V)</td>\n",
       "      <td>The squeal of smoking tires, the roar of the e...</td>\n",
       "      <td>['Action', 'Animation']</td>\n",
       "    </tr>\n",
       "    <tr>\n",
       "      <th>347534</th>\n",
       "      <td>�l (2001) (V)</td>\n",
       "      <td>In order to oppose the evil Black Widow organi...</td>\n",
       "      <td>['Adult', 'Animation', 'Mystery', 'Sci-Fi', 'T...</td>\n",
       "    </tr>\n",
       "  </tbody>\n",
       "</table>\n",
       "<p>347535 rows × 3 columns</p>\n",
       "</div>"
      ],
      "text/plain": [
       "                                   movie  \\\n",
       "0                   \"#7DaysLater\" (2013)   \n",
       "1                         \"#Cake\" (2015)   \n",
       "2                   \"#DaddyLeaks\" (????)   \n",
       "3                       \"#Elmira\" (2014)   \n",
       "4                         \"#Fuga\" (2016)   \n",
       "...                                  ...   \n",
       "347530      � propos: philosophie (2016)   \n",
       "347531           �a go�te le ciel (2014)   \n",
       "347532  � solo un nastro che gira (2017)   \n",
       "347533    �X-Driver the Movie (2002) (V)   \n",
       "347534                     �l (2001) (V)   \n",
       "\n",
       "                                                     plot  \\\n",
       "0       #7dayslater is an interactive comedy series fe...   \n",
       "1       #CAKE is a hour-long serial narrative comedy a...   \n",
       "2       The life of four close friends in their late t...   \n",
       "3       #Elmira follows the story of a bunch of strang...   \n",
       "4       Months after an apocalyptic event, a group of ...   \n",
       "...                                                   ...   \n",
       "347530  Is happiness good for human beings? Is truth m...   \n",
       "347531  The 'Sky's the Limit' is the story of an 11 ye...   \n",
       "347532  A woman in crisis finds in a peculiar bar the ...   \n",
       "347533  The squeal of smoking tires, the roar of the e...   \n",
       "347534  In order to oppose the evil Black Widow organi...   \n",
       "\n",
       "                                                   genres  \n",
       "0                                              ['Comedy']  \n",
       "1                                              ['Comedy']  \n",
       "2                                              ['Comedy']  \n",
       "3                                              ['Comedy']  \n",
       "4                           ['Action', 'Drama', 'Horror']  \n",
       "...                                                   ...  \n",
       "347530                                    ['Documentary']  \n",
       "347531            ['Drama', 'Family', 'Fantasy', 'Short']  \n",
       "347532            ['Comedy', 'Drama', 'Romance', 'Short']  \n",
       "347533                            ['Action', 'Animation']  \n",
       "347534  ['Adult', 'Animation', 'Mystery', 'Sci-Fi', 'T...  \n",
       "\n",
       "[347535 rows x 3 columns]"
      ]
     },
     "execution_count": 48,
     "metadata": {},
     "output_type": "execute_result"
    }
   ],
   "source": [
    "# load the plots_and_genres.csv file into a dataframe\n",
    "df = pd.read_csv('./data/plots_and_genres.csv')\n",
    "df"
   ]
  },
  {
   "cell_type": "code",
   "execution_count": 49,
   "metadata": {},
   "outputs": [
    {
     "data": {
      "text/plain": [
       "movie     0\n",
       "plot      0\n",
       "genres    0\n",
       "dtype: int64"
      ]
     },
     "execution_count": 49,
     "metadata": {},
     "output_type": "execute_result"
    }
   ],
   "source": [
    "# count nan values\n",
    "df.isna().sum()"
   ]
  },
  {
   "cell_type": "code",
   "execution_count": 50,
   "metadata": {},
   "outputs": [],
   "source": [
    "\n",
    "genres_to_consider = [\n",
    "    'Drama',\n",
    "    'Comedy',\n",
    "    'Thriller',\n",
    "    'Romance',\n",
    "    'Action',\n",
    "    'Family',\n",
    "    'Horror',\n",
    "    'Crime',\n",
    "    'Adventure',\n",
    "    'Animation',\n",
    "    'Fantasy',\n",
    "    'Sci-Fi',\n",
    "    'Mystery',\n",
    "    'Biography',\n",
    "    'Music',\n",
    "    'History',\n",
    "    'War',\n",
    "    'Western',\n",
    "    'Sport',\n",
    "    'Musical',\n",
    "]"
   ]
  },
  {
   "cell_type": "code",
   "execution_count": 56,
   "metadata": {},
   "outputs": [],
   "source": [
    "# filter the dataframe to only include the genres we want to consider\n",
    "\n",
    "def check(row):\n",
    "    sublist = row['genres']\n",
    "    # remove quotes from each item in the list\n",
    "    sublist = [item.strip().strip(\"'\") for item in sublist.strip('][').split(',')]\n",
    "\n",
    "    # # if even one of the genres in the list is in the genres_to_consider list, return True\n",
    "    # for genre in sublist:\n",
    "    #     if genre in genres_to_consider:\n",
    "    #         return True\n",
    "    \n",
    "    # check intersection of two lists\n",
    "    if len(set(sublist).intersection(set(genres_to_consider))) > 0:\n",
    "        # set genres to the intersection of the two lists\n",
    "        row['genres'] = list(set(sublist).intersection(set(genres_to_consider)))\n",
    "        return True\n",
    "    \n",
    "    return False"
   ]
  },
  {
   "cell_type": "code",
   "execution_count": 57,
   "metadata": {},
   "outputs": [],
   "source": [
    "\n",
    "filtered_df = df[df.apply(check, axis=1)]"
   ]
  },
  {
   "cell_type": "code",
   "execution_count": 59,
   "metadata": {},
   "outputs": [
    {
     "data": {
      "text/plain": [
       "genres\n",
       "[Drama]                                                  57939\n",
       "[Comedy]                                                 34150\n",
       "[Drama, Comedy]                                           8249\n",
       "[Drama, Romance]                                          7044\n",
       "[Horror]                                                  6740\n",
       "                                                         ...  \n",
       "[Animation, Horror, Music, Sci-Fi, Adventure, Action]        1\n",
       "[Horror, History, Drama, Fantasy, Action]                    1\n",
       "[Western, Crime, Romance, Comedy]                            1\n",
       "[Biography, Adventure, War, Action]                          1\n",
       "[Family, History, Drama, War, Action]                        1\n",
       "Name: count, Length: 4924, dtype: int64"
      ]
     },
     "execution_count": 59,
     "metadata": {},
     "output_type": "execute_result"
    }
   ],
   "source": [
    "filtered_df['genres'].value_counts()"
   ]
  },
  {
   "cell_type": "code",
   "execution_count": null,
   "metadata": {},
   "outputs": [],
   "source": []
  }
 ],
 "metadata": {
  "kernelspec": {
   "display_name": ".venv",
   "language": "python",
   "name": "python3"
  },
  "language_info": {
   "codemirror_mode": {
    "name": "ipython",
    "version": 3
   },
   "file_extension": ".py",
   "mimetype": "text/x-python",
   "name": "python",
   "nbconvert_exporter": "python",
   "pygments_lexer": "ipython3",
   "version": "3.11.5"
  },
  "orig_nbformat": 4
 },
 "nbformat": 4,
 "nbformat_minor": 2
}
