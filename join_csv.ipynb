{
 "cells": [
  {
   "cell_type": "code",
   "execution_count": 1,
   "metadata": {},
   "outputs": [],
   "source": [
    "import pandas as pd"
   ]
  },
  {
   "cell_type": "code",
   "execution_count": 2,
   "metadata": {},
   "outputs": [],
   "source": [
    "# get the plot and genres csv files into dataframes\n",
    "plot_df = pd.read_csv('./data/plots.csv')\n",
    "genres_df = pd.read_csv('./data/genres.csv')"
   ]
  },
  {
   "cell_type": "code",
   "execution_count": 5,
   "metadata": {},
   "outputs": [],
   "source": [
    "# perform join based on movie_id\n",
    "merged_df = pd.merge(plot_df, genres_df, on='movie', how='inner')"
   ]
  },
  {
   "cell_type": "code",
   "execution_count": 6,
   "metadata": {},
   "outputs": [
    {
     "data": {
      "text/html": [
       "<div>\n",
       "<style scoped>\n",
       "    .dataframe tbody tr th:only-of-type {\n",
       "        vertical-align: middle;\n",
       "    }\n",
       "\n",
       "    .dataframe tbody tr th {\n",
       "        vertical-align: top;\n",
       "    }\n",
       "\n",
       "    .dataframe thead th {\n",
       "        text-align: right;\n",
       "    }\n",
       "</style>\n",
       "<table border=\"1\" class=\"dataframe\">\n",
       "  <thead>\n",
       "    <tr style=\"text-align: right;\">\n",
       "      <th></th>\n",
       "      <th>movie</th>\n",
       "      <th>plot</th>\n",
       "      <th>genres</th>\n",
       "    </tr>\n",
       "  </thead>\n",
       "  <tbody>\n",
       "    <tr>\n",
       "      <th>0</th>\n",
       "      <td>\"#7DaysLater\" (2013)</td>\n",
       "      <td>#7dayslater is an interactive comedy series fe...</td>\n",
       "      <td>['Comedy']</td>\n",
       "    </tr>\n",
       "    <tr>\n",
       "      <th>1</th>\n",
       "      <td>\"#Cake\" (2015)</td>\n",
       "      <td>#CAKE is a hour-long serial narrative comedy a...</td>\n",
       "      <td>['Comedy']</td>\n",
       "    </tr>\n",
       "    <tr>\n",
       "      <th>2</th>\n",
       "      <td>\"#DaddyLeaks\" (????)</td>\n",
       "      <td>The life of four close friends in their late t...</td>\n",
       "      <td>['Comedy']</td>\n",
       "    </tr>\n",
       "    <tr>\n",
       "      <th>3</th>\n",
       "      <td>\"#Elmira\" (2014)</td>\n",
       "      <td>#Elmira follows the story of a bunch of strang...</td>\n",
       "      <td>['Comedy']</td>\n",
       "    </tr>\n",
       "    <tr>\n",
       "      <th>4</th>\n",
       "      <td>\"#Fuga\" (2016)</td>\n",
       "      <td>Months after an apocalyptic event, a group of ...</td>\n",
       "      <td>['Action', 'Drama', 'Horror']</td>\n",
       "    </tr>\n",
       "    <tr>\n",
       "      <th>...</th>\n",
       "      <td>...</td>\n",
       "      <td>...</td>\n",
       "      <td>...</td>\n",
       "    </tr>\n",
       "    <tr>\n",
       "      <th>347530</th>\n",
       "      <td>� propos: philosophie (2016)</td>\n",
       "      <td>Is happiness good for human beings? Is truth m...</td>\n",
       "      <td>['Documentary']</td>\n",
       "    </tr>\n",
       "    <tr>\n",
       "      <th>347531</th>\n",
       "      <td>�a go�te le ciel (2014)</td>\n",
       "      <td>The 'Sky's the Limit' is the story of an 11 ye...</td>\n",
       "      <td>['Drama', 'Family', 'Fantasy', 'Short']</td>\n",
       "    </tr>\n",
       "    <tr>\n",
       "      <th>347532</th>\n",
       "      <td>� solo un nastro che gira (2017)</td>\n",
       "      <td>A woman in crisis finds in a peculiar bar the ...</td>\n",
       "      <td>['Comedy', 'Drama', 'Romance', 'Short']</td>\n",
       "    </tr>\n",
       "    <tr>\n",
       "      <th>347533</th>\n",
       "      <td>�X-Driver the Movie (2002) (V)</td>\n",
       "      <td>The squeal of smoking tires, the roar of the e...</td>\n",
       "      <td>['Action', 'Animation']</td>\n",
       "    </tr>\n",
       "    <tr>\n",
       "      <th>347534</th>\n",
       "      <td>�l (2001) (V)</td>\n",
       "      <td>In order to oppose the evil Black Widow organi...</td>\n",
       "      <td>['Adult', 'Animation', 'Mystery', 'Sci-Fi', 'T...</td>\n",
       "    </tr>\n",
       "  </tbody>\n",
       "</table>\n",
       "<p>347535 rows × 3 columns</p>\n",
       "</div>"
      ],
      "text/plain": [
       "                                   movie  \\\n",
       "0                   \"#7DaysLater\" (2013)   \n",
       "1                         \"#Cake\" (2015)   \n",
       "2                   \"#DaddyLeaks\" (????)   \n",
       "3                       \"#Elmira\" (2014)   \n",
       "4                         \"#Fuga\" (2016)   \n",
       "...                                  ...   \n",
       "347530      � propos: philosophie (2016)   \n",
       "347531           �a go�te le ciel (2014)   \n",
       "347532  � solo un nastro che gira (2017)   \n",
       "347533    �X-Driver the Movie (2002) (V)   \n",
       "347534                     �l (2001) (V)   \n",
       "\n",
       "                                                     plot  \\\n",
       "0       #7dayslater is an interactive comedy series fe...   \n",
       "1       #CAKE is a hour-long serial narrative comedy a...   \n",
       "2       The life of four close friends in their late t...   \n",
       "3       #Elmira follows the story of a bunch of strang...   \n",
       "4       Months after an apocalyptic event, a group of ...   \n",
       "...                                                   ...   \n",
       "347530  Is happiness good for human beings? Is truth m...   \n",
       "347531  The 'Sky's the Limit' is the story of an 11 ye...   \n",
       "347532  A woman in crisis finds in a peculiar bar the ...   \n",
       "347533  The squeal of smoking tires, the roar of the e...   \n",
       "347534  In order to oppose the evil Black Widow organi...   \n",
       "\n",
       "                                                   genres  \n",
       "0                                              ['Comedy']  \n",
       "1                                              ['Comedy']  \n",
       "2                                              ['Comedy']  \n",
       "3                                              ['Comedy']  \n",
       "4                           ['Action', 'Drama', 'Horror']  \n",
       "...                                                   ...  \n",
       "347530                                    ['Documentary']  \n",
       "347531            ['Drama', 'Family', 'Fantasy', 'Short']  \n",
       "347532            ['Comedy', 'Drama', 'Romance', 'Short']  \n",
       "347533                            ['Action', 'Animation']  \n",
       "347534  ['Adult', 'Animation', 'Mystery', 'Sci-Fi', 'T...  \n",
       "\n",
       "[347535 rows x 3 columns]"
      ]
     },
     "execution_count": 6,
     "metadata": {},
     "output_type": "execute_result"
    }
   ],
   "source": [
    "merged_df"
   ]
  },
  {
   "cell_type": "code",
   "execution_count": 7,
   "metadata": {},
   "outputs": [],
   "source": [
    "# save the merged dataframe to a csv file\n",
    "merged_df.to_csv('./data/plots_and_summaries.csv', index=False)"
   ]
  },
  {
   "cell_type": "code",
   "execution_count": null,
   "metadata": {},
   "outputs": [],
   "source": []
  }
 ],
 "metadata": {
  "kernelspec": {
   "display_name": ".venv",
   "language": "python",
   "name": "python3"
  },
  "language_info": {
   "codemirror_mode": {
    "name": "ipython",
    "version": 3
   },
   "file_extension": ".py",
   "mimetype": "text/x-python",
   "name": "python",
   "nbconvert_exporter": "python",
   "pygments_lexer": "ipython3",
   "version": "3.10.13"
  },
  "orig_nbformat": 4
 },
 "nbformat": 4,
 "nbformat_minor": 2
}
