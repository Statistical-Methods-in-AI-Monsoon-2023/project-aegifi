{
 "cells": [
  {
   "cell_type": "code",
   "execution_count": 1,
   "metadata": {
    "vscode": {
     "languageId": "python"
    }
   },
   "outputs": [],
   "source": [
    "import pandas as pd"
   ]
  },
  {
   "cell_type": "markdown",
   "metadata": {},
   "source": [
    "# Genres\n"
   ]
  },
  {
   "cell_type": "code",
   "execution_count": 2,
   "metadata": {
    "vscode": {
     "languageId": "python"
    }
   },
   "outputs": [],
   "source": [
    "with open('./raw_data/genres.list', 'r', errors='replace') as f:\n",
    "    lines = f.readlines()\n",
    "    \n",
    "    movie_genres = {}\n",
    "    \n",
    "    for line in lines:\n",
    "        movie = line.split('\\t')[0]\n",
    "        genre = line.split('\\t')[-1].strip()\n",
    "\n",
    "        if movie in movie_genres:\n",
    "            movie_genres[movie].append(genre)\n",
    "        else:\n",
    "            movie_genres[movie] = [genre]"
   ]
  },
  {
   "cell_type": "code",
   "execution_count": 6,
   "metadata": {
    "vscode": {
     "languageId": "python"
    }
   },
   "outputs": [],
   "source": [
    "'''\n",
    "dict structure:\n",
    "{\n",
    "    movie1: [genre1, genre2, ...],\n",
    "    movie2: [genre1, genre2, ...],\n",
    "    ...\n",
    "}\n",
    "'''\n",
    "\n",
    "movie_list = []\n",
    "# convert dict to list\n",
    "for movie, genres in movie_genres.items():\n",
    "    movie_list.append({\n",
    "        'movie': movie,\n",
    "        'genres': genres\n",
    "    })\n",
    "\n",
    "# convert list to dataframe\n",
    "df = pd.DataFrame(movie_list)\n"
   ]
  },
  {
   "cell_type": "code",
   "execution_count": 7,
   "metadata": {
    "vscode": {
     "languageId": "python"
    }
   },
   "outputs": [
    {
     "data": {
      "text/html": [
       "<div>\n",
       "<style scoped>\n",
       "    .dataframe tbody tr th:only-of-type {\n",
       "        vertical-align: middle;\n",
       "    }\n",
       "\n",
       "    .dataframe tbody tr th {\n",
       "        vertical-align: top;\n",
       "    }\n",
       "\n",
       "    .dataframe thead th {\n",
       "        text-align: right;\n",
       "    }\n",
       "</style>\n",
       "<table border=\"1\" class=\"dataframe\">\n",
       "  <thead>\n",
       "    <tr style=\"text-align: right;\">\n",
       "      <th></th>\n",
       "      <th>movie</th>\n",
       "      <th>genres</th>\n",
       "    </tr>\n",
       "  </thead>\n",
       "  <tbody>\n",
       "    <tr>\n",
       "      <th>0</th>\n",
       "      <td>\"!Next?\" (1994)</td>\n",
       "      <td>[Documentary]</td>\n",
       "    </tr>\n",
       "    <tr>\n",
       "      <th>1</th>\n",
       "      <td>\"#1 Single\" (2006)</td>\n",
       "      <td>[Reality-TV]</td>\n",
       "    </tr>\n",
       "    <tr>\n",
       "      <th>2</th>\n",
       "      <td>\"#15SecondScare\" (2015)</td>\n",
       "      <td>[Horror, Short, Thriller]</td>\n",
       "    </tr>\n",
       "    <tr>\n",
       "      <th>3</th>\n",
       "      <td>\"#15SecondScare\" (2015) {Who Wants to Play wit...</td>\n",
       "      <td>[Drama, Horror, Short, Thriller]</td>\n",
       "    </tr>\n",
       "    <tr>\n",
       "      <th>4</th>\n",
       "      <td>\"#1MinuteNightmare\" (2014)</td>\n",
       "      <td>[Horror]</td>\n",
       "    </tr>\n",
       "    <tr>\n",
       "      <th>...</th>\n",
       "      <td>...</td>\n",
       "      <td>...</td>\n",
       "    </tr>\n",
       "    <tr>\n",
       "      <th>1468749</th>\n",
       "      <td>� (2012)</td>\n",
       "      <td>[Animation, Short]</td>\n",
       "    </tr>\n",
       "    <tr>\n",
       "      <th>1468750</th>\n",
       "      <td>�regHarcos (2016)</td>\n",
       "      <td>[Documentary, Short]</td>\n",
       "    </tr>\n",
       "    <tr>\n",
       "      <th>1468751</th>\n",
       "      <td>�regHarcos II (2017) (V)</td>\n",
       "      <td>[Documentary, Short]</td>\n",
       "    </tr>\n",
       "    <tr>\n",
       "      <th>1468752</th>\n",
       "      <td>�berRICH (2017)</td>\n",
       "      <td>[Comedy, Short]</td>\n",
       "    </tr>\n",
       "    <tr>\n",
       "      <th>1468753</th>\n",
       "      <td>�� (2012)</td>\n",
       "      <td>[Adventure, Comedy, Short]</td>\n",
       "    </tr>\n",
       "  </tbody>\n",
       "</table>\n",
       "<p>1468754 rows × 2 columns</p>\n",
       "</div>"
      ],
      "text/plain": [
       "                                                     movie  \\\n",
       "0                                          \"!Next?\" (1994)   \n",
       "1                                       \"#1 Single\" (2006)   \n",
       "2                                  \"#15SecondScare\" (2015)   \n",
       "3        \"#15SecondScare\" (2015) {Who Wants to Play wit...   \n",
       "4                               \"#1MinuteNightmare\" (2014)   \n",
       "...                                                    ...   \n",
       "1468749                                           � (2012)   \n",
       "1468750                                  �regHarcos (2016)   \n",
       "1468751                           �regHarcos II (2017) (V)   \n",
       "1468752                                    �berRICH (2017)   \n",
       "1468753                                          �� (2012)   \n",
       "\n",
       "                                   genres  \n",
       "0                           [Documentary]  \n",
       "1                            [Reality-TV]  \n",
       "2               [Horror, Short, Thriller]  \n",
       "3        [Drama, Horror, Short, Thriller]  \n",
       "4                                [Horror]  \n",
       "...                                   ...  \n",
       "1468749                [Animation, Short]  \n",
       "1468750              [Documentary, Short]  \n",
       "1468751              [Documentary, Short]  \n",
       "1468752                   [Comedy, Short]  \n",
       "1468753        [Adventure, Comedy, Short]  \n",
       "\n",
       "[1468754 rows x 2 columns]"
      ]
     },
     "execution_count": 7,
     "metadata": {},
     "output_type": "execute_result"
    }
   ],
   "source": [
    "df"
   ]
  },
  {
   "cell_type": "code",
   "execution_count": 8,
   "metadata": {
    "vscode": {
     "languageId": "python"
    }
   },
   "outputs": [],
   "source": [
    "# store dataframe to csv\n",
    "df.to_csv('./data/genres.csv', index=False)"
   ]
  },
  {
   "cell_type": "markdown",
   "metadata": {},
   "source": [
    "# Plots\n"
   ]
  },
  {
   "cell_type": "code",
   "execution_count": 9,
   "metadata": {
    "vscode": {
     "languageId": "python"
    }
   },
   "outputs": [],
   "source": [
    "with open('./raw_data/plot.list', 'r', errors='replace') as f:\n",
    "    lines = f.readlines()\n",
    "    \n",
    "    movie_plots = {}\n",
    "    \n",
    "    for line in lines:\n",
    "        if line.startswith('MV:'):\n",
    "            movie = line.split('MV:')[1].strip()\n",
    "            movie_plots[movie] = ''\n",
    "        elif line.startswith('PL:'):\n",
    "            plot = line.split('PL:')[1].strip()\n",
    "            movie_plots[movie] += plot"
   ]
  },
  {
   "cell_type": "code",
   "execution_count": 10,
   "metadata": {
    "vscode": {
     "languageId": "python"
    }
   },
   "outputs": [
    {
     "data": {
      "text/html": [
       "<div>\n",
       "<style scoped>\n",
       "    .dataframe tbody tr th:only-of-type {\n",
       "        vertical-align: middle;\n",
       "    }\n",
       "\n",
       "    .dataframe tbody tr th {\n",
       "        vertical-align: top;\n",
       "    }\n",
       "\n",
       "    .dataframe thead th {\n",
       "        text-align: right;\n",
       "    }\n",
       "</style>\n",
       "<table border=\"1\" class=\"dataframe\">\n",
       "  <thead>\n",
       "    <tr style=\"text-align: right;\">\n",
       "      <th></th>\n",
       "      <th>movie</th>\n",
       "      <th>plot</th>\n",
       "    </tr>\n",
       "  </thead>\n",
       "  <tbody>\n",
       "    <tr>\n",
       "      <th>0</th>\n",
       "      <td>\"#7DaysLater\" (2013)</td>\n",
       "      <td>#7dayslater is an interactive comedy series fe...</td>\n",
       "    </tr>\n",
       "    <tr>\n",
       "      <th>1</th>\n",
       "      <td>\"#BlackLove\" (2015) {Bringing Sexy Back (#1.3)}</td>\n",
       "      <td>This week, the five women work on getting what...</td>\n",
       "    </tr>\n",
       "    <tr>\n",
       "      <th>2</th>\n",
       "      <td>\"#BlackLove\" (2015) {Crash the Party (#1.9)}</td>\n",
       "      <td>With just one week left in the workshops, the ...</td>\n",
       "    </tr>\n",
       "    <tr>\n",
       "      <th>3</th>\n",
       "      <td>\"#BlackLove\" (2015) {Like a Virgin (#1.4)}</td>\n",
       "      <td>All of the women are struggling with what make...</td>\n",
       "    </tr>\n",
       "    <tr>\n",
       "      <th>4</th>\n",
       "      <td>\"#BlackLove\" (2015) {Making Lemonade Out of Le...</td>\n",
       "      <td>All of the women start making strides towards ...</td>\n",
       "    </tr>\n",
       "    <tr>\n",
       "      <th>...</th>\n",
       "      <td>...</td>\n",
       "      <td>...</td>\n",
       "    </tr>\n",
       "    <tr>\n",
       "      <th>596422</th>\n",
       "      <td>� propos: philosophie (2016)</td>\n",
       "      <td>Is happiness good for human beings? Is truth m...</td>\n",
       "    </tr>\n",
       "    <tr>\n",
       "      <th>596423</th>\n",
       "      <td>�a go�te le ciel (2014)</td>\n",
       "      <td>The 'Sky's the Limit' is the story of an 11 ye...</td>\n",
       "    </tr>\n",
       "    <tr>\n",
       "      <th>596424</th>\n",
       "      <td>� solo un nastro che gira (2017)</td>\n",
       "      <td>A woman in crisis finds in a peculiar bar the ...</td>\n",
       "    </tr>\n",
       "    <tr>\n",
       "      <th>596425</th>\n",
       "      <td>�X-Driver the Movie (2002) (V)</td>\n",
       "      <td>The squeal of smoking tires, the roar of the e...</td>\n",
       "    </tr>\n",
       "    <tr>\n",
       "      <th>596426</th>\n",
       "      <td>�l (2001) (V)</td>\n",
       "      <td>In order to oppose the evil Black Widow organi...</td>\n",
       "    </tr>\n",
       "  </tbody>\n",
       "</table>\n",
       "<p>596427 rows × 2 columns</p>\n",
       "</div>"
      ],
      "text/plain": [
       "                                                    movie  \\\n",
       "0                                    \"#7DaysLater\" (2013)   \n",
       "1         \"#BlackLove\" (2015) {Bringing Sexy Back (#1.3)}   \n",
       "2            \"#BlackLove\" (2015) {Crash the Party (#1.9)}   \n",
       "3              \"#BlackLove\" (2015) {Like a Virgin (#1.4)}   \n",
       "4       \"#BlackLove\" (2015) {Making Lemonade Out of Le...   \n",
       "...                                                   ...   \n",
       "596422                       � propos: philosophie (2016)   \n",
       "596423                            �a go�te le ciel (2014)   \n",
       "596424                   � solo un nastro che gira (2017)   \n",
       "596425                     �X-Driver the Movie (2002) (V)   \n",
       "596426                                      �l (2001) (V)   \n",
       "\n",
       "                                                     plot  \n",
       "0       #7dayslater is an interactive comedy series fe...  \n",
       "1       This week, the five women work on getting what...  \n",
       "2       With just one week left in the workshops, the ...  \n",
       "3       All of the women are struggling with what make...  \n",
       "4       All of the women start making strides towards ...  \n",
       "...                                                   ...  \n",
       "596422  Is happiness good for human beings? Is truth m...  \n",
       "596423  The 'Sky's the Limit' is the story of an 11 ye...  \n",
       "596424  A woman in crisis finds in a peculiar bar the ...  \n",
       "596425  The squeal of smoking tires, the roar of the e...  \n",
       "596426  In order to oppose the evil Black Widow organi...  \n",
       "\n",
       "[596427 rows x 2 columns]"
      ]
     },
     "execution_count": 10,
     "metadata": {},
     "output_type": "execute_result"
    }
   ],
   "source": [
    "# convert dict to list\n",
    "movie_list = []\n",
    "for movie, plot in movie_plots.items():\n",
    "    movie_list.append({\n",
    "        'movie': movie,\n",
    "        'plot': plot\n",
    "    })\n",
    "\n",
    "# convert list to dataframe\n",
    "df = pd.DataFrame(movie_list)\n",
    "df"
   ]
  },
  {
   "cell_type": "code",
   "execution_count": null,
   "metadata": {
    "vscode": {
     "languageId": "python"
    }
   },
   "outputs": [],
   "source": [
    "# save dataframe to csv\n",
    "df.to_csv('./data/plots.csv', index=False)"
   ]
  }
 ],
 "metadata": {
  "kernelspec": {
   "display_name": "Xonsh",
   "language": "xonsh",
   "name": "xonsh"
  },
  "language_info": {
   "codemirror_mode": {
    "name": "ipython",
    "version": 3
   },
   "file_extension": ".py",
   "mimetype": "text/x-python",
   "name": "xonsh",
   "nbconvert_exporter": "python",
   "pygments_lexer": "ipython3",
   "version": "3.11.5"
  },
  "orig_nbformat": 4
 },
 "nbformat": 4,
 "nbformat_minor": 2
}
